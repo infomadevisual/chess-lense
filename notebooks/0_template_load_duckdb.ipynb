{
 "cells": [
  {
   "cell_type": "code",
   "execution_count": null,
   "id": "0",
   "metadata": {},
   "outputs": [],
   "source": [
    "# Load Games\n",
    "\n",
    "from pathlib import Path\n",
    "from duckdb import DuckDBPyConnection\n",
    "import duckdb\n",
    "\n",
    "con = duckdb.connect(database=\":memory:\")\n",
    "\n",
    "tz: str = \"America/Los_Angeles\"\n",
    "con.execute(f\"SET TimeZone = '{tz}';\")\n",
    "\n",
    "username = \"lickumoo\"\n",
    "games_view = \"games\"\n",
    "games_path = Path(f'../.cache/{username}/games.parquet')\n",
    "con.execute(\n",
    "    f\"\"\"\n",
    "    CREATE OR REPLACE VIEW {games_view} AS\n",
    "    SELECT\n",
    "        *\n",
    "    FROM parquet_scan('{games_path.as_posix()}');\n",
    "\"\"\"\n",
    ")\n",
    "\n",
    "openings_view = \"openings\"\n",
    "openings_path = Path(f'../data/openings.parquet')\n",
    "con.execute(\n",
    "    f\"\"\"\n",
    "    CREATE OR REPLACE VIEW {openings_view} AS\n",
    "    SELECT * FROM parquet_scan('{openings_path}');\n",
    "\"\"\"\n",
    ")"
   ]
  },
  {
   "cell_type": "code",
   "execution_count": null,
   "id": "1",
   "metadata": {},
   "outputs": [],
   "source": [
    "con.execute(f\"SELECT * FROM {games_view};\").fetch_df()"
   ]
  },
  {
   "cell_type": "code",
   "execution_count": null,
   "id": "2",
   "metadata": {},
   "outputs": [],
   "source": [
    "con.execute(f\"SELECT * FROM {openings_view};\").fetch_df()"
   ]
  }
 ],
 "metadata": {
  "kernelspec": {
   "display_name": ".venv",
   "language": "python",
   "name": "python3"
  },
  "language_info": {
   "codemirror_mode": {
    "name": "ipython",
    "version": 3
   },
   "file_extension": ".py",
   "mimetype": "text/x-python",
   "name": "python",
   "nbconvert_exporter": "python",
   "pygments_lexer": "ipython3",
   "version": "3.13.7"
  }
 },
 "nbformat": 4,
 "nbformat_minor": 5
}
