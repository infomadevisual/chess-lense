{
 "cells": [
  {
   "cell_type": "code",
   "execution_count": null,
   "id": "0",
   "metadata": {},
   "outputs": [],
   "source": [
    "# Load Games\n",
    "\n",
    "from pathlib import Path\n",
    "from duckdb import DuckDBPyConnection\n",
    "import duckdb\n",
    "\n",
    "con = duckdb.connect(database=\":memory:\")\n",
    "username = \"lickumoo\"\n",
    "view = f\"games\"\n",
    "\n",
    "def ensure_user_view(games_path: Path, tz: str = \"America/Los_Angeles\"\n",
    ") -> tuple[DuckDBPyConnection, str]:\n",
    "    con.execute(f\"SET TimeZone = '{tz}';\")\n",
    "\n",
    "    con.execute(\n",
    "        f\"\"\"\n",
    "        CREATE OR REPLACE VIEW {view} AS\n",
    "        SELECT\n",
    "            *\n",
    "        FROM parquet_scan('{games_path.as_posix()}');\n",
    "    \"\"\"\n",
    "    )\n",
    "    return con, view\n",
    "\n",
    "ensure_user_view(Path(f'../.cache/{username}/games.parquet'))"
   ]
  },
  {
   "cell_type": "code",
   "execution_count": null,
   "id": "1",
   "metadata": {},
   "outputs": [],
   "source": [
    "con.execute(f\"SELECT COUNT(*) FROM {view};\").fetch_df()"
   ]
  },
  {
   "cell_type": "code",
   "execution_count": null,
   "id": "2",
   "metadata": {},
   "outputs": [],
   "source": []
  }
 ],
 "metadata": {
  "kernelspec": {
   "display_name": ".venv",
   "language": "python",
   "name": "python3"
  },
  "language_info": {
   "codemirror_mode": {
    "name": "ipython",
    "version": 3
   },
   "file_extension": ".py",
   "mimetype": "text/x-python",
   "name": "python",
   "nbconvert_exporter": "python",
   "pygments_lexer": "ipython3",
   "version": "3.13.7"
  }
 },
 "nbformat": 4,
 "nbformat_minor": 5
}
